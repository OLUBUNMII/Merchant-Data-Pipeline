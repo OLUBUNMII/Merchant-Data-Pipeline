{
 "cells": [
  {
   "cell_type": "code",
   "execution_count": 6,
   "metadata": {},
   "outputs": [
    {
     "name": "stdout",
     "output_type": "stream",
     "text": [
      "merchant_id         0\n",
      "terminal_id         0\n",
      "timestamp           3\n",
      "transaction_type    0\n",
      "amount              5\n",
      "status              2\n",
      "dtype: int64\n"
     ]
    }
   ],
   "source": [
    "import pandas as pd\n",
    "\n",
    "df = pd.read_csv(\"../data/transactions.csv\", keep_default_na=True)\n",
    "print(df.isnull().sum())"
   ]
  },
  {
   "cell_type": "code",
   "execution_count": 15,
   "metadata": {},
   "outputs": [
    {
     "name": "stdout",
     "output_type": "stream",
     "text": [
      "Number of duplicate rows: 0\n"
     ]
    }
   ],
   "source": [
    "duplicated_rows = df[df.duplicated()]\n",
    "print(f\"Number of duplicate rows: {len(duplicated_rows)}\")"
   ]
  },
  {
   "cell_type": "code",
   "execution_count": 18,
   "metadata": {},
   "outputs": [
    {
     "name": "stdout",
     "output_type": "stream",
     "text": [
      "Total rows: 1010\n"
     ]
    }
   ],
   "source": [
    "print(f\"Total rows: {len(df)}\")"
   ]
  },
  {
   "cell_type": "code",
   "execution_count": 21,
   "metadata": {},
   "outputs": [
    {
     "name": "stdout",
     "output_type": "stream",
     "text": [
      "1010\n",
      "10\n",
      "Timestamp in perfect order: False\n"
     ]
    }
   ],
   "source": [
    "df = pd.read_csv(\"../data/transactions.csv\")\n",
    "print(len(df)) \n",
    "print(df[df.duplicated()].shape[0])  \n",
    "is_sorted = df['timestamp'].is_monotonic_increasing\n",
    "print(\"Timestamp in perfect order:\", is_sorted)\n"
   ]
  },
  {
   "cell_type": "code",
   "execution_count": 19,
   "metadata": {},
   "outputs": [
    {
     "name": "stdout",
     "output_type": "stream",
     "text": [
      "Timestamp in perfect order: False\n"
     ]
    }
   ],
   "source": [
    "is_sorted = df['timestamp'].is_monotonic_increasing\n",
    "print(\"Timestamp in perfect order:\", is_sorted)"
   ]
  }
 ],
 "metadata": {
  "kernelspec": {
   "display_name": "venv",
   "language": "python",
   "name": "python3"
  },
  "language_info": {
   "codemirror_mode": {
    "name": "ipython",
    "version": 3
   },
   "file_extension": ".py",
   "mimetype": "text/x-python",
   "name": "python",
   "nbconvert_exporter": "python",
   "pygments_lexer": "ipython3",
   "version": "3.13.2"
  }
 },
 "nbformat": 4,
 "nbformat_minor": 2
}
